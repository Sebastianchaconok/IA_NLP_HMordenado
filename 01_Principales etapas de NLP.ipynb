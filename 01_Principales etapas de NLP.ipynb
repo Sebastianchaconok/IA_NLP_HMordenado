{
  "cells": [
    {
      "cell_type": "markdown",
      "metadata": {
        "id": "W5mLrTzexm4Z"
      },
      "source": [
        "# Etapas/Actividades comunes en NLP"
      ]
    },
    {
      "cell_type": "markdown",
      "metadata": {
        "id": "kd5_Rx8bxm4c"
      },
      "source": [
        "___________________________________________"
      ]
    },
    {
      "cell_type": "code",
      "execution_count": 20,
      "metadata": {
        "id": "cBolpT_jxm4d",
        "outputId": "d066f231-9951-44a9-f371-63cd4cdc1b6e",
        "colab": {
          "base_uri": "https://localhost:8080/"
        }
      },
      "outputs": [
        {
          "output_type": "stream",
          "name": "stdout",
          "text": [
            "Libreria: 'nltk' esta instalada y se cargo correctamente\n"
          ]
        }
      ],
      "source": [
        "try:\n",
        "    import nltk\n",
        "    print(\"Libreria: 'nltk' esta instalada y se cargo correctamente\")\n",
        "except ModuleNotFoundError:\n",
        "    print(\"Libreria: 'nltk' no esta instalada, se debe instalar\")\n",
        "    !(pip install nltk)\n",
        "    import nltk"
      ]
    },
    {
      "cell_type": "code",
      "execution_count": 21,
      "metadata": {
        "id": "R9_RrPJNxm4f",
        "outputId": "d4e20e07-71eb-440f-b13a-6834b2a695a7",
        "colab": {
          "base_uri": "https://localhost:8080/"
        }
      },
      "outputs": [
        {
          "output_type": "stream",
          "name": "stdout",
          "text": [
            "Libreria: 'spacy' esta instalada y se cargo correctamente\n"
          ]
        },
        {
          "output_type": "stream",
          "name": "stderr",
          "text": [
            "[nltk_data] Downloading package punkt to /root/nltk_data...\n",
            "[nltk_data]   Package punkt is already up-to-date!\n",
            "[nltk_data] Downloading package stopwords to /root/nltk_data...\n",
            "[nltk_data]   Package stopwords is already up-to-date!\n"
          ]
        },
        {
          "output_type": "execute_result",
          "data": {
            "text/plain": [
              "True"
            ]
          },
          "metadata": {},
          "execution_count": 21
        }
      ],
      "source": [
        "try:\n",
        "    import spacy\n",
        "    print(\"Libreria: 'spacy' esta instalada y se cargo correctamente\")\n",
        "except ModuleNotFoundError:\n",
        "    print(\"Libreria: 'spacy' no esta instalada, se debe instalar\")\n",
        "    !(pip install spacy)\n",
        "    import spacy\n",
        "nltk.download('punkt')\n",
        "nltk.download('stopwords')"
      ]
    },
    {
      "cell_type": "markdown",
      "metadata": {
        "id": "wmhlQL_Pxm4f"
      },
      "source": [
        "### Tokens"
      ]
    },
    {
      "cell_type": "code",
      "execution_count": 22,
      "metadata": {
        "id": "cO9ayxYdxm4g"
      },
      "outputs": [],
      "source": [
        "oracion = \"\"\"Hello World. Have a nice day.\"\"\""
      ]
    },
    {
      "cell_type": "code",
      "execution_count": 23,
      "metadata": {
        "id": "qdsa-D0Gxm4g"
      },
      "outputs": [],
      "source": [
        "sentencias = nltk.sent_tokenize(oracion)"
      ]
    },
    {
      "cell_type": "code",
      "execution_count": 24,
      "metadata": {
        "id": "TDIoX3kNxm4h",
        "outputId": "b4554d1f-4350-4254-db13-4fff12233390",
        "colab": {
          "base_uri": "https://localhost:8080/"
        }
      },
      "outputs": [
        {
          "output_type": "stream",
          "name": "stdout",
          "text": [
            "Hello World.\n",
            "Have a nice day.\n"
          ]
        }
      ],
      "source": [
        "for sen in sentencias:\n",
        "    print(sen)"
      ]
    },
    {
      "cell_type": "code",
      "execution_count": 25,
      "metadata": {
        "id": "uZmFa4_oxm4h"
      },
      "outputs": [],
      "source": [
        "token_espanol = nltk.data.load('tokenizers/punkt/spanish.pickle')"
      ]
    },
    {
      "cell_type": "code",
      "execution_count": 26,
      "metadata": {
        "id": "fOxN3rwuxm4i"
      },
      "outputs": [],
      "source": [
        "oracion = \"\"\"Hola mundo. Que tengas un dia hermoso.\"\"\""
      ]
    },
    {
      "cell_type": "code",
      "execution_count": 27,
      "metadata": {
        "id": "iJ3PzVjMxm4i"
      },
      "outputs": [],
      "source": [
        "sentencias = token_espanol.tokenize(oracion)"
      ]
    },
    {
      "cell_type": "code",
      "execution_count": 28,
      "metadata": {
        "id": "AYMW3UkJxm4i",
        "outputId": "91eb76c0-6028-4eab-dbc8-63aeec2163b3",
        "colab": {
          "base_uri": "https://localhost:8080/"
        }
      },
      "outputs": [
        {
          "output_type": "stream",
          "name": "stdout",
          "text": [
            "Hola mundo.\n",
            "Que tengas un dia hermoso.\n"
          ]
        }
      ],
      "source": [
        "for sen in sentencias:\n",
        "    print(sen)"
      ]
    },
    {
      "cell_type": "markdown",
      "metadata": {
        "id": "_RhNlHhDxm4i"
      },
      "source": [
        "______________________________"
      ]
    },
    {
      "cell_type": "code",
      "execution_count": 29,
      "metadata": {
        "id": "vzrAbzrgxm4j"
      },
      "outputs": [],
      "source": [
        "tokens_palabras = nltk.word_tokenize(oracion)"
      ]
    },
    {
      "cell_type": "code",
      "execution_count": 30,
      "metadata": {
        "id": "DbMVbTcoxm4j",
        "outputId": "46a4a278-5f64-4d6a-8a63-899483bfdd09",
        "colab": {
          "base_uri": "https://localhost:8080/"
        }
      },
      "outputs": [
        {
          "output_type": "stream",
          "name": "stdout",
          "text": [
            "Hola\n",
            "mundo\n",
            ".\n",
            "Que\n",
            "tengas\n",
            "un\n",
            "dia\n",
            "hermoso\n",
            ".\n"
          ]
        }
      ],
      "source": [
        "for palabra in tokens_palabras:\n",
        "    print(palabra)"
      ]
    },
    {
      "cell_type": "code",
      "execution_count": 31,
      "metadata": {
        "id": "gKjB6UWAxm4j"
      },
      "outputs": [],
      "source": [
        "tokens_regexp = nltk.tokenize.regexp_tokenize(oracion, \"[\\w']+\")"
      ]
    },
    {
      "cell_type": "code",
      "execution_count": 32,
      "metadata": {
        "id": "Y-ZoUaNVxm4j",
        "outputId": "8b5c575e-ae0c-48f9-c293-0f6c736fb9b9",
        "colab": {
          "base_uri": "https://localhost:8080/"
        }
      },
      "outputs": [
        {
          "output_type": "stream",
          "name": "stdout",
          "text": [
            "Hola\n",
            "mundo\n",
            "Que\n",
            "tengas\n",
            "un\n",
            "dia\n",
            "hermoso\n"
          ]
        }
      ],
      "source": [
        "for palabra in tokens_regexp:\n",
        "    print(palabra)"
      ]
    },
    {
      "cell_type": "markdown",
      "metadata": {
        "id": "m_Kj5Kvjxm4j"
      },
      "source": [
        "_________________________"
      ]
    },
    {
      "cell_type": "markdown",
      "metadata": {
        "id": "4k2Wf3lLxm4j"
      },
      "source": [
        "#### Stop Words"
      ]
    },
    {
      "cell_type": "code",
      "execution_count": 33,
      "metadata": {
        "id": "Cb5pd7PXxm4j"
      },
      "outputs": [],
      "source": [
        "sw_espanol = set( nltk.corpus.stopwords.words('spanish'))"
      ]
    },
    {
      "cell_type": "code",
      "execution_count": 34,
      "metadata": {
        "id": "T596qVoUxm4k",
        "outputId": "1f6e3f23-02d3-4374-8a93-b3492378e2fe",
        "colab": {
          "base_uri": "https://localhost:8080/"
        }
      },
      "outputs": [
        {
          "output_type": "execute_result",
          "data": {
            "text/plain": [
              "{'a',\n",
              " 'al',\n",
              " 'algo',\n",
              " 'algunas',\n",
              " 'algunos',\n",
              " 'ante',\n",
              " 'antes',\n",
              " 'como',\n",
              " 'con',\n",
              " 'contra',\n",
              " 'cual',\n",
              " 'cuando',\n",
              " 'de',\n",
              " 'del',\n",
              " 'desde',\n",
              " 'donde',\n",
              " 'durante',\n",
              " 'e',\n",
              " 'el',\n",
              " 'ella',\n",
              " 'ellas',\n",
              " 'ellos',\n",
              " 'en',\n",
              " 'entre',\n",
              " 'era',\n",
              " 'erais',\n",
              " 'eran',\n",
              " 'eras',\n",
              " 'eres',\n",
              " 'es',\n",
              " 'esa',\n",
              " 'esas',\n",
              " 'ese',\n",
              " 'eso',\n",
              " 'esos',\n",
              " 'esta',\n",
              " 'estaba',\n",
              " 'estabais',\n",
              " 'estaban',\n",
              " 'estabas',\n",
              " 'estad',\n",
              " 'estada',\n",
              " 'estadas',\n",
              " 'estado',\n",
              " 'estados',\n",
              " 'estamos',\n",
              " 'estando',\n",
              " 'estar',\n",
              " 'estaremos',\n",
              " 'estará',\n",
              " 'estarán',\n",
              " 'estarás',\n",
              " 'estaré',\n",
              " 'estaréis',\n",
              " 'estaría',\n",
              " 'estaríais',\n",
              " 'estaríamos',\n",
              " 'estarían',\n",
              " 'estarías',\n",
              " 'estas',\n",
              " 'este',\n",
              " 'estemos',\n",
              " 'esto',\n",
              " 'estos',\n",
              " 'estoy',\n",
              " 'estuve',\n",
              " 'estuviera',\n",
              " 'estuvierais',\n",
              " 'estuvieran',\n",
              " 'estuvieras',\n",
              " 'estuvieron',\n",
              " 'estuviese',\n",
              " 'estuvieseis',\n",
              " 'estuviesen',\n",
              " 'estuvieses',\n",
              " 'estuvimos',\n",
              " 'estuviste',\n",
              " 'estuvisteis',\n",
              " 'estuviéramos',\n",
              " 'estuviésemos',\n",
              " 'estuvo',\n",
              " 'está',\n",
              " 'estábamos',\n",
              " 'estáis',\n",
              " 'están',\n",
              " 'estás',\n",
              " 'esté',\n",
              " 'estéis',\n",
              " 'estén',\n",
              " 'estés',\n",
              " 'fue',\n",
              " 'fuera',\n",
              " 'fuerais',\n",
              " 'fueran',\n",
              " 'fueras',\n",
              " 'fueron',\n",
              " 'fuese',\n",
              " 'fueseis',\n",
              " 'fuesen',\n",
              " 'fueses',\n",
              " 'fui',\n",
              " 'fuimos',\n",
              " 'fuiste',\n",
              " 'fuisteis',\n",
              " 'fuéramos',\n",
              " 'fuésemos',\n",
              " 'ha',\n",
              " 'habida',\n",
              " 'habidas',\n",
              " 'habido',\n",
              " 'habidos',\n",
              " 'habiendo',\n",
              " 'habremos',\n",
              " 'habrá',\n",
              " 'habrán',\n",
              " 'habrás',\n",
              " 'habré',\n",
              " 'habréis',\n",
              " 'habría',\n",
              " 'habríais',\n",
              " 'habríamos',\n",
              " 'habrían',\n",
              " 'habrías',\n",
              " 'habéis',\n",
              " 'había',\n",
              " 'habíais',\n",
              " 'habíamos',\n",
              " 'habían',\n",
              " 'habías',\n",
              " 'han',\n",
              " 'has',\n",
              " 'hasta',\n",
              " 'hay',\n",
              " 'haya',\n",
              " 'hayamos',\n",
              " 'hayan',\n",
              " 'hayas',\n",
              " 'hayáis',\n",
              " 'he',\n",
              " 'hemos',\n",
              " 'hube',\n",
              " 'hubiera',\n",
              " 'hubierais',\n",
              " 'hubieran',\n",
              " 'hubieras',\n",
              " 'hubieron',\n",
              " 'hubiese',\n",
              " 'hubieseis',\n",
              " 'hubiesen',\n",
              " 'hubieses',\n",
              " 'hubimos',\n",
              " 'hubiste',\n",
              " 'hubisteis',\n",
              " 'hubiéramos',\n",
              " 'hubiésemos',\n",
              " 'hubo',\n",
              " 'la',\n",
              " 'las',\n",
              " 'le',\n",
              " 'les',\n",
              " 'lo',\n",
              " 'los',\n",
              " 'me',\n",
              " 'mi',\n",
              " 'mis',\n",
              " 'mucho',\n",
              " 'muchos',\n",
              " 'muy',\n",
              " 'más',\n",
              " 'mí',\n",
              " 'mía',\n",
              " 'mías',\n",
              " 'mío',\n",
              " 'míos',\n",
              " 'nada',\n",
              " 'ni',\n",
              " 'no',\n",
              " 'nos',\n",
              " 'nosotras',\n",
              " 'nosotros',\n",
              " 'nuestra',\n",
              " 'nuestras',\n",
              " 'nuestro',\n",
              " 'nuestros',\n",
              " 'o',\n",
              " 'os',\n",
              " 'otra',\n",
              " 'otras',\n",
              " 'otro',\n",
              " 'otros',\n",
              " 'para',\n",
              " 'pero',\n",
              " 'poco',\n",
              " 'por',\n",
              " 'porque',\n",
              " 'que',\n",
              " 'quien',\n",
              " 'quienes',\n",
              " 'qué',\n",
              " 'se',\n",
              " 'sea',\n",
              " 'seamos',\n",
              " 'sean',\n",
              " 'seas',\n",
              " 'sentid',\n",
              " 'sentida',\n",
              " 'sentidas',\n",
              " 'sentido',\n",
              " 'sentidos',\n",
              " 'seremos',\n",
              " 'será',\n",
              " 'serán',\n",
              " 'serás',\n",
              " 'seré',\n",
              " 'seréis',\n",
              " 'sería',\n",
              " 'seríais',\n",
              " 'seríamos',\n",
              " 'serían',\n",
              " 'serías',\n",
              " 'seáis',\n",
              " 'siente',\n",
              " 'sin',\n",
              " 'sintiendo',\n",
              " 'sobre',\n",
              " 'sois',\n",
              " 'somos',\n",
              " 'son',\n",
              " 'soy',\n",
              " 'su',\n",
              " 'sus',\n",
              " 'suya',\n",
              " 'suyas',\n",
              " 'suyo',\n",
              " 'suyos',\n",
              " 'sí',\n",
              " 'también',\n",
              " 'tanto',\n",
              " 'te',\n",
              " 'tendremos',\n",
              " 'tendrá',\n",
              " 'tendrán',\n",
              " 'tendrás',\n",
              " 'tendré',\n",
              " 'tendréis',\n",
              " 'tendría',\n",
              " 'tendríais',\n",
              " 'tendríamos',\n",
              " 'tendrían',\n",
              " 'tendrías',\n",
              " 'tened',\n",
              " 'tenemos',\n",
              " 'tenga',\n",
              " 'tengamos',\n",
              " 'tengan',\n",
              " 'tengas',\n",
              " 'tengo',\n",
              " 'tengáis',\n",
              " 'tenida',\n",
              " 'tenidas',\n",
              " 'tenido',\n",
              " 'tenidos',\n",
              " 'teniendo',\n",
              " 'tenéis',\n",
              " 'tenía',\n",
              " 'teníais',\n",
              " 'teníamos',\n",
              " 'tenían',\n",
              " 'tenías',\n",
              " 'ti',\n",
              " 'tiene',\n",
              " 'tienen',\n",
              " 'tienes',\n",
              " 'todo',\n",
              " 'todos',\n",
              " 'tu',\n",
              " 'tus',\n",
              " 'tuve',\n",
              " 'tuviera',\n",
              " 'tuvierais',\n",
              " 'tuvieran',\n",
              " 'tuvieras',\n",
              " 'tuvieron',\n",
              " 'tuviese',\n",
              " 'tuvieseis',\n",
              " 'tuviesen',\n",
              " 'tuvieses',\n",
              " 'tuvimos',\n",
              " 'tuviste',\n",
              " 'tuvisteis',\n",
              " 'tuviéramos',\n",
              " 'tuviésemos',\n",
              " 'tuvo',\n",
              " 'tuya',\n",
              " 'tuyas',\n",
              " 'tuyo',\n",
              " 'tuyos',\n",
              " 'tú',\n",
              " 'un',\n",
              " 'una',\n",
              " 'uno',\n",
              " 'unos',\n",
              " 'vosotras',\n",
              " 'vosotros',\n",
              " 'vuestra',\n",
              " 'vuestras',\n",
              " 'vuestro',\n",
              " 'vuestros',\n",
              " 'y',\n",
              " 'ya',\n",
              " 'yo',\n",
              " 'él',\n",
              " 'éramos'}"
            ]
          },
          "metadata": {},
          "execution_count": 34
        }
      ],
      "source": [
        "sw_espanol"
      ]
    },
    {
      "cell_type": "code",
      "execution_count": 35,
      "metadata": {
        "id": "5pA81A-mxm4k"
      },
      "outputs": [],
      "source": [
        "sw_espanol.update(['.', ',', '\"', \"'\", '?', '!', ':', ';', '(', ')', '[', ']', '{', '}'])"
      ]
    },
    {
      "cell_type": "code",
      "execution_count": 36,
      "metadata": {
        "id": "8lS9RfAOxm4k"
      },
      "outputs": [],
      "source": [
        "tokens_palabras = nltk.word_tokenize(oracion)"
      ]
    },
    {
      "cell_type": "code",
      "execution_count": 37,
      "metadata": {
        "id": "HQHD-XYvxm4k",
        "outputId": "0c10c449-5c5e-4bda-c9f4-ac651acbd283",
        "colab": {
          "base_uri": "https://localhost:8080/"
        }
      },
      "outputs": [
        {
          "output_type": "stream",
          "name": "stdout",
          "text": [
            "No es SW = Hola\n",
            "No es SW = mundo\n",
            "No es SW = dia\n",
            "No es SW = hermoso\n"
          ]
        }
      ],
      "source": [
        "for palabra in tokens_palabras:\n",
        "    if palabra.lower() not in sw_espanol:\n",
        "        print(\"No es SW = \" + palabra)"
      ]
    },
    {
      "cell_type": "code",
      "execution_count": 38,
      "metadata": {
        "id": "arBjSggnxm4k"
      },
      "outputs": [],
      "source": [
        "oracion = \"\"\"La coleccion es buena pero me gustaria que se venda por Internet.\"\"\""
      ]
    },
    {
      "cell_type": "code",
      "execution_count": 39,
      "metadata": {
        "id": "8IRxCjygxm4k"
      },
      "outputs": [],
      "source": [
        "tokens_palabras = nltk.word_tokenize(oracion)"
      ]
    },
    {
      "cell_type": "code",
      "execution_count": 40,
      "metadata": {
        "id": "_6blM7pYxm4k",
        "outputId": "0ec4bdc4-8eed-4de1-830a-b74b4599711a",
        "colab": {
          "base_uri": "https://localhost:8080/"
        }
      },
      "outputs": [
        {
          "output_type": "stream",
          "name": "stdout",
          "text": [
            "No es SW = coleccion\n",
            "No es SW = buena\n",
            "No es SW = gustaria\n",
            "No es SW = venda\n",
            "No es SW = Internet\n"
          ]
        }
      ],
      "source": [
        "for palabra in tokens_palabras:\n",
        "    if palabra.lower() not in sw_espanol:\n",
        "        print(\"No es SW = \" + palabra)"
      ]
    },
    {
      "cell_type": "markdown",
      "metadata": {
        "id": "a8YdDcsvxm4l"
      },
      "source": [
        "_____________________________"
      ]
    },
    {
      "cell_type": "markdown",
      "metadata": {
        "id": "EYcbq-F-xm4l"
      },
      "source": [
        "***Stemming:*** es transformar palabras a sus raíces, estas son la parte invariable de palabras."
      ]
    },
    {
      "cell_type": "code",
      "execution_count": 41,
      "metadata": {
        "id": "Cv0_efzXxm4l"
      },
      "outputs": [],
      "source": [
        "from nltk import SnowballStemmer"
      ]
    },
    {
      "cell_type": "code",
      "execution_count": 42,
      "metadata": {
        "id": "qUpo1Ebvxm4l"
      },
      "outputs": [],
      "source": [
        "stemmer_espanol=SnowballStemmer(\"spanish\")"
      ]
    },
    {
      "cell_type": "code",
      "execution_count": 43,
      "metadata": {
        "id": "nT0cAU7Oxm4l"
      },
      "outputs": [],
      "source": [
        "tokens_palabras = nltk.word_tokenize(oracion)"
      ]
    },
    {
      "cell_type": "code",
      "execution_count": 44,
      "metadata": {
        "id": "R3lM4w69xm4l",
        "outputId": "b88bf17c-2e63-46b9-a457-77e14c681351",
        "colab": {
          "base_uri": "https://localhost:8080/"
        }
      },
      "outputs": [
        {
          "output_type": "stream",
          "name": "stdout",
          "text": [
            "la\n",
            "coleccion\n",
            "es\n",
            "buen\n",
            "per\n",
            "me\n",
            "gustari\n",
            "que\n",
            "se\n",
            "vend\n",
            "por\n",
            "internet\n",
            ".\n"
          ]
        }
      ],
      "source": [
        "for palabra in tokens_palabras:\n",
        "    print(stemmer_espanol.stem(palabra))"
      ]
    },
    {
      "cell_type": "markdown",
      "metadata": {
        "id": "cQ5Q-l-Sxm4m"
      },
      "source": [
        "__________________"
      ]
    },
    {
      "cell_type": "markdown",
      "metadata": {
        "id": "TDMEvjq-xm4m"
      },
      "source": [
        "***Lematización:*** remplaza una palabra derivada por su version canónica"
      ]
    },
    {
      "cell_type": "code",
      "execution_count": 45,
      "metadata": {
        "id": "YVIn9tuYxm4m",
        "outputId": "c981043a-f30f-4a8d-9ad6-27c3f773bee5",
        "colab": {
          "base_uri": "https://localhost:8080/",
          "height": 355
        }
      },
      "outputs": [
        {
          "output_type": "error",
          "ename": "OSError",
          "evalue": "ignored",
          "traceback": [
            "\u001b[0;31m---------------------------------------------------------------------------\u001b[0m",
            "\u001b[0;31mOSError\u001b[0m                                   Traceback (most recent call last)",
            "\u001b[0;32m<ipython-input-45-fb67a6112bc7>\u001b[0m in \u001b[0;36m<cell line: 2>\u001b[0;34m()\u001b[0m\n\u001b[1;32m      1\u001b[0m \u001b[0;31m#Atencion: la instalacion por defecto de spacy no isntala la libreria en español, debe ser ejecutada manualmente.\u001b[0m\u001b[0;34m\u001b[0m\u001b[0;34m\u001b[0m\u001b[0m\n\u001b[0;32m----> 2\u001b[0;31m \u001b[0mnlp\u001b[0m \u001b[0;34m=\u001b[0m \u001b[0mspacy\u001b[0m\u001b[0;34m.\u001b[0m\u001b[0mload\u001b[0m\u001b[0;34m(\u001b[0m\u001b[0;34m'./es_core_news_sm\\es_core_news_sm-3.6.0'\u001b[0m\u001b[0;34m)\u001b[0m\u001b[0;34m\u001b[0m\u001b[0;34m\u001b[0m\u001b[0m\n\u001b[0m",
            "\u001b[0;32m/usr/local/lib/python3.10/dist-packages/spacy/__init__.py\u001b[0m in \u001b[0;36mload\u001b[0;34m(name, vocab, disable, enable, exclude, config)\u001b[0m\n\u001b[1;32m     49\u001b[0m     \u001b[0mRETURNS\u001b[0m \u001b[0;34m(\u001b[0m\u001b[0mLanguage\u001b[0m\u001b[0;34m)\u001b[0m\u001b[0;34m:\u001b[0m \u001b[0mThe\u001b[0m \u001b[0mloaded\u001b[0m \u001b[0mnlp\u001b[0m \u001b[0mobject\u001b[0m\u001b[0;34m.\u001b[0m\u001b[0;34m\u001b[0m\u001b[0;34m\u001b[0m\u001b[0m\n\u001b[1;32m     50\u001b[0m     \"\"\"\n\u001b[0;32m---> 51\u001b[0;31m     return util.load_model(\n\u001b[0m\u001b[1;32m     52\u001b[0m         \u001b[0mname\u001b[0m\u001b[0;34m,\u001b[0m\u001b[0;34m\u001b[0m\u001b[0;34m\u001b[0m\u001b[0m\n\u001b[1;32m     53\u001b[0m         \u001b[0mvocab\u001b[0m\u001b[0;34m=\u001b[0m\u001b[0mvocab\u001b[0m\u001b[0;34m,\u001b[0m\u001b[0;34m\u001b[0m\u001b[0;34m\u001b[0m\u001b[0m\n",
            "\u001b[0;32m/usr/local/lib/python3.10/dist-packages/spacy/util.py\u001b[0m in \u001b[0;36mload_model\u001b[0;34m(name, vocab, disable, enable, exclude, config)\u001b[0m\n\u001b[1;32m    470\u001b[0m     \u001b[0;32mif\u001b[0m \u001b[0mname\u001b[0m \u001b[0;32min\u001b[0m \u001b[0mOLD_MODEL_SHORTCUTS\u001b[0m\u001b[0;34m:\u001b[0m\u001b[0;34m\u001b[0m\u001b[0;34m\u001b[0m\u001b[0m\n\u001b[1;32m    471\u001b[0m         \u001b[0;32mraise\u001b[0m \u001b[0mIOError\u001b[0m\u001b[0;34m(\u001b[0m\u001b[0mErrors\u001b[0m\u001b[0;34m.\u001b[0m\u001b[0mE941\u001b[0m\u001b[0;34m.\u001b[0m\u001b[0mformat\u001b[0m\u001b[0;34m(\u001b[0m\u001b[0mname\u001b[0m\u001b[0;34m=\u001b[0m\u001b[0mname\u001b[0m\u001b[0;34m,\u001b[0m \u001b[0mfull\u001b[0m\u001b[0;34m=\u001b[0m\u001b[0mOLD_MODEL_SHORTCUTS\u001b[0m\u001b[0;34m[\u001b[0m\u001b[0mname\u001b[0m\u001b[0;34m]\u001b[0m\u001b[0;34m)\u001b[0m\u001b[0;34m)\u001b[0m  \u001b[0;31m# type: ignore[index]\u001b[0m\u001b[0;34m\u001b[0m\u001b[0;34m\u001b[0m\u001b[0m\n\u001b[0;32m--> 472\u001b[0;31m     \u001b[0;32mraise\u001b[0m \u001b[0mIOError\u001b[0m\u001b[0;34m(\u001b[0m\u001b[0mErrors\u001b[0m\u001b[0;34m.\u001b[0m\u001b[0mE050\u001b[0m\u001b[0;34m.\u001b[0m\u001b[0mformat\u001b[0m\u001b[0;34m(\u001b[0m\u001b[0mname\u001b[0m\u001b[0;34m=\u001b[0m\u001b[0mname\u001b[0m\u001b[0;34m)\u001b[0m\u001b[0;34m)\u001b[0m\u001b[0;34m\u001b[0m\u001b[0;34m\u001b[0m\u001b[0m\n\u001b[0m\u001b[1;32m    473\u001b[0m \u001b[0;34m\u001b[0m\u001b[0m\n\u001b[1;32m    474\u001b[0m \u001b[0;34m\u001b[0m\u001b[0m\n",
            "\u001b[0;31mOSError\u001b[0m: [E050] Can't find model './es_core_news_sm\\es_core_news_sm-3.6.0'. It doesn't seem to be a Python package or a valid path to a data directory."
          ]
        }
      ],
      "source": [
        "#Atencion: la instalacion por defecto de spacy no isntala la libreria en español, debe ser ejecutada manualmente.\n",
        "nlp = spacy.load('./es_core_news_sm\\es_core_news_sm-3.6.0')"
      ]
    },
    {
      "cell_type": "code",
      "execution_count": null,
      "metadata": {
        "id": "NBGi-J0gxm4m"
      },
      "outputs": [],
      "source": [
        "lema = nlp(oracion)"
      ]
    },
    {
      "cell_type": "code",
      "execution_count": null,
      "metadata": {
        "id": "RWZWcRqRxm4m"
      },
      "outputs": [],
      "source": [
        "for palabra in lema:\n",
        "    print(palabra.lemma_.lower())\n"
      ]
    },
    {
      "cell_type": "markdown",
      "metadata": {
        "id": "yqXgzNoxxm4n"
      },
      "source": [
        "________________________"
      ]
    }
  ],
  "metadata": {
    "kernelspec": {
      "display_name": "Python 3 (ipykernel)",
      "language": "python",
      "name": "python3"
    },
    "language_info": {
      "codemirror_mode": {
        "name": "ipython",
        "version": 3
      },
      "file_extension": ".py",
      "mimetype": "text/x-python",
      "name": "python",
      "nbconvert_exporter": "python",
      "pygments_lexer": "ipython3",
      "version": "3.10.10"
    },
    "colab": {
      "provenance": [],
      "toc_visible": true
    }
  },
  "nbformat": 4,
  "nbformat_minor": 0
}